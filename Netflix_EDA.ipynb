{
 "cells": [
  {
   "cell_type": "markdown",
   "metadata": {
    "id": "AG3x3nsOEk4f"
   },
   "source": [
    "# **Exploratory Data Analysis for Netflix**\n",
    "\n",
    "---\n",
    "\n",
    "\n",
    "\n"
   ]
  },
  {
   "cell_type": "markdown",
   "metadata": {
    "id": "Hnnz26EKi3Qj"
   },
   "source": [
    "# Exploratory Data Analysis on popular video streaming website - Netflix. \n",
    "\n",
    "Original Data for this analysis is available at- https://www.kaggle.com/shivamb/netflix-shows\n",
    "\n",
    "This notebook uses a cleaned version of the data with additional columns for the EDA (edited in Excel before importing).\n",
    "\n",
    "These new columns are -\n",
    "\n",
    "*  **running_time**- Numerical column created from the 'duration' column to estimate content time on the platform. duration with 'season' string has been ignored due to insufficient data on no. of episodes per season & running time per episode\n",
    "*   **Decade** - Numerical column to group content decade wise\n",
    "*   **Suggested_Viewer_Age**- Categorical Column for grouping content ratings since different countries have different notations for ratings Eg. TV-MA/R/NR/UR could be for Mature Audiences and not suitable for young viewers. Hence, these could be grouped as per age levels\n",
    "*   **Audience group**- categorical column created from the 'Suggested_Viewer_Age' column values\n",
    "*   **Genre_1, Genre_2 and Genre_3**- Categorical columns created from 'listed_in' column from original data as each show_id seems to have multiple tags\n"
   ]
  },
  {
   "cell_type": "markdown",
   "metadata": {
    "id": "7X1Un06xkseI"
   },
   "source": [
    "\n",
    "This analysis will try to answer the some/all of following questions:\n",
    "\n",
    "1.  Are more TV shows being released than Movies? \n",
    "2.  Which country has the highest number of TV shows?\n",
    "3.  Which country has the highest number of Movies?\n",
    "4.  Which content rating has the highest number of releases?\n",
    "5.  Which type of content is being released most?\n",
    "6.  Has there been an effect of Pandemic on the type of content?\n",
    "7.  How much content is there for kids? \n",
    "8.  Average Running time of the content on the platform\n",
    "9.  Releases in Categories of content \n"
   ]
  },
  {
   "cell_type": "code",
   "execution_count": 1,
   "metadata": {
    "id": "6sGWAuWdNcqi"
   },
   "outputs": [],
   "source": [
    "import pandas as pd\n",
    "import numpy as np\n",
    "import matplotlib.pyplot as plt\n",
    "%matplotlib inline\n",
    "import seaborn as sns"
   ]
  },
  {
   "cell_type": "code",
   "execution_count": 2,
   "metadata": {
    "id": "TQU5I0U0QKPS"
   },
   "outputs": [],
   "source": [
    "df=pd.read_csv(r'C:\\Users\\Devashree\\Downloads\\netflix.csv')"
   ]
  },
  {
   "cell_type": "code",
   "execution_count": 3,
   "metadata": {
    "colab": {
     "base_uri": "https://localhost:8080/"
    },
    "id": "LDvJ61T5F5HR",
    "outputId": "250083df-1485-4822-f9aa-393d49ef2321"
   },
   "outputs": [
    {
     "data": {
      "text/plain": [
       "(7787, 17)"
      ]
     },
     "execution_count": 3,
     "metadata": {},
     "output_type": "execute_result"
    }
   ],
   "source": [
    "df.shape"
   ]
  },
  {
   "cell_type": "code",
   "execution_count": 4,
   "metadata": {},
   "outputs": [],
   "source": [
    "df=df.drop(['director','cast'],axis=1)"
   ]
  },
  {
   "cell_type": "code",
   "execution_count": 5,
   "metadata": {
    "colab": {
     "base_uri": "https://localhost:8080/",
     "height": 677
    },
    "id": "FJibhUjLQQvk",
    "outputId": "9596edbf-08e2-49c9-c154-555809f9728c"
   },
   "outputs": [
    {
     "data": {
      "text/html": [
       "<div>\n",
       "<style scoped>\n",
       "    .dataframe tbody tr th:only-of-type {\n",
       "        vertical-align: middle;\n",
       "    }\n",
       "\n",
       "    .dataframe tbody tr th {\n",
       "        vertical-align: top;\n",
       "    }\n",
       "\n",
       "    .dataframe thead th {\n",
       "        text-align: right;\n",
       "    }\n",
       "</style>\n",
       "<table border=\"1\" class=\"dataframe\">\n",
       "  <thead>\n",
       "    <tr style=\"text-align: right;\">\n",
       "      <th></th>\n",
       "      <th>show_id</th>\n",
       "      <th>type</th>\n",
       "      <th>title</th>\n",
       "      <th>country</th>\n",
       "      <th>date_added</th>\n",
       "      <th>release_year</th>\n",
       "      <th>Decade</th>\n",
       "      <th>rating</th>\n",
       "      <th>Suggested_Viewer_Age</th>\n",
       "      <th>Audience group</th>\n",
       "      <th>duration</th>\n",
       "      <th>running_time</th>\n",
       "      <th>genre_1</th>\n",
       "      <th>genre_2</th>\n",
       "      <th>genre_3</th>\n",
       "    </tr>\n",
       "  </thead>\n",
       "  <tbody>\n",
       "    <tr>\n",
       "      <th>0</th>\n",
       "      <td>s1</td>\n",
       "      <td>TV Show</td>\n",
       "      <td>3%</td>\n",
       "      <td>Brazil</td>\n",
       "      <td>August 14, 2020</td>\n",
       "      <td>2020</td>\n",
       "      <td>2020</td>\n",
       "      <td>TV-MA</td>\n",
       "      <td>17+</td>\n",
       "      <td>Adults</td>\n",
       "      <td>4 Seasons</td>\n",
       "      <td>0</td>\n",
       "      <td>International TV Shows</td>\n",
       "      <td>TV Dramas</td>\n",
       "      <td>TV Sci-Fi &amp; Fantasy</td>\n",
       "    </tr>\n",
       "    <tr>\n",
       "      <th>1</th>\n",
       "      <td>s2</td>\n",
       "      <td>Movie</td>\n",
       "      <td>07:19</td>\n",
       "      <td>Mexico</td>\n",
       "      <td>December 23, 2016</td>\n",
       "      <td>2016</td>\n",
       "      <td>2010</td>\n",
       "      <td>TV-MA</td>\n",
       "      <td>17+</td>\n",
       "      <td>Adults</td>\n",
       "      <td>93 min</td>\n",
       "      <td>93</td>\n",
       "      <td>Dramas</td>\n",
       "      <td>International Movies</td>\n",
       "      <td>NaN</td>\n",
       "    </tr>\n",
       "    <tr>\n",
       "      <th>2</th>\n",
       "      <td>s3</td>\n",
       "      <td>Movie</td>\n",
       "      <td>23:59</td>\n",
       "      <td>Singapore</td>\n",
       "      <td>December 20, 2018</td>\n",
       "      <td>2011</td>\n",
       "      <td>2010</td>\n",
       "      <td>R</td>\n",
       "      <td>17+</td>\n",
       "      <td>Adults</td>\n",
       "      <td>78 min</td>\n",
       "      <td>78</td>\n",
       "      <td>Horror Movies</td>\n",
       "      <td>International Movies</td>\n",
       "      <td>NaN</td>\n",
       "    </tr>\n",
       "    <tr>\n",
       "      <th>3</th>\n",
       "      <td>s4</td>\n",
       "      <td>Movie</td>\n",
       "      <td>9</td>\n",
       "      <td>United States</td>\n",
       "      <td>November 16, 2017</td>\n",
       "      <td>2009</td>\n",
       "      <td>2000</td>\n",
       "      <td>PG-13</td>\n",
       "      <td>13+</td>\n",
       "      <td>Young Adults/Teens</td>\n",
       "      <td>80 min</td>\n",
       "      <td>80</td>\n",
       "      <td>Action &amp; Adventure</td>\n",
       "      <td>Independent Movies</td>\n",
       "      <td>Sci-Fi &amp; Fantasy</td>\n",
       "    </tr>\n",
       "    <tr>\n",
       "      <th>4</th>\n",
       "      <td>s5</td>\n",
       "      <td>Movie</td>\n",
       "      <td>21</td>\n",
       "      <td>United States</td>\n",
       "      <td>January 1, 2020</td>\n",
       "      <td>2008</td>\n",
       "      <td>2000</td>\n",
       "      <td>PG-13</td>\n",
       "      <td>13+</td>\n",
       "      <td>Young Adults/Teens</td>\n",
       "      <td>123 min</td>\n",
       "      <td>123</td>\n",
       "      <td>Dramas</td>\n",
       "      <td>NaN</td>\n",
       "      <td>NaN</td>\n",
       "    </tr>\n",
       "  </tbody>\n",
       "</table>\n",
       "</div>"
      ],
      "text/plain": [
       "  show_id     type  title        country         date_added  release_year  \\\n",
       "0      s1  TV Show     3%         Brazil    August 14, 2020          2020   \n",
       "1      s2    Movie  07:19         Mexico  December 23, 2016          2016   \n",
       "2      s3    Movie  23:59      Singapore  December 20, 2018          2011   \n",
       "3      s4    Movie      9  United States  November 16, 2017          2009   \n",
       "4      s5    Movie     21  United States    January 1, 2020          2008   \n",
       "\n",
       "   Decade rating Suggested_Viewer_Age      Audience group   duration  \\\n",
       "0    2020  TV-MA                  17+              Adults  4 Seasons   \n",
       "1    2010  TV-MA                  17+              Adults     93 min   \n",
       "2    2010      R                  17+              Adults     78 min   \n",
       "3    2000  PG-13                  13+  Young Adults/Teens     80 min   \n",
       "4    2000  PG-13                  13+  Young Adults/Teens    123 min   \n",
       "\n",
       "   running_time                 genre_1               genre_2  \\\n",
       "0             0  International TV Shows             TV Dramas   \n",
       "1            93                  Dramas  International Movies   \n",
       "2            78           Horror Movies  International Movies   \n",
       "3            80      Action & Adventure    Independent Movies   \n",
       "4           123                  Dramas                   NaN   \n",
       "\n",
       "               genre_3  \n",
       "0  TV Sci-Fi & Fantasy  \n",
       "1                  NaN  \n",
       "2                  NaN  \n",
       "3     Sci-Fi & Fantasy  \n",
       "4                  NaN  "
      ]
     },
     "execution_count": 5,
     "metadata": {},
     "output_type": "execute_result"
    }
   ],
   "source": [
    "df.head()"
   ]
  },
  {
   "cell_type": "code",
   "execution_count": 6,
   "metadata": {
    "id": "iFA1uN69g0Vl"
   },
   "outputs": [],
   "source": [
    "#changing date_added column from object to datetime\n",
    "df['date_added']=pd.to_datetime(df['date_added'])"
   ]
  },
  {
   "cell_type": "code",
   "execution_count": 7,
   "metadata": {
    "colab": {
     "base_uri": "https://localhost:8080/"
    },
    "id": "g7mzmDlIQQ3A",
    "outputId": "dedc817f-fc3b-493a-aba4-35def9244845"
   },
   "outputs": [
    {
     "data": {
      "text/plain": [
       "show_id                         object\n",
       "type                            object\n",
       "title                           object\n",
       "country                         object\n",
       "date_added              datetime64[ns]\n",
       "release_year                     int64\n",
       "Decade                           int64\n",
       "rating                          object\n",
       "Suggested_Viewer_Age            object\n",
       "Audience group                  object\n",
       "duration                        object\n",
       "running_time                     int64\n",
       "genre_1                         object\n",
       "genre_2                         object\n",
       "genre_3                         object\n",
       "dtype: object"
      ]
     },
     "execution_count": 7,
     "metadata": {},
     "output_type": "execute_result"
    }
   ],
   "source": [
    "df.dtypes"
   ]
  },
  {
   "cell_type": "code",
   "execution_count": 8,
   "metadata": {
    "colab": {
     "base_uri": "https://localhost:8080/",
     "height": 143
    },
    "id": "4nphPmioXNyj",
    "outputId": "3eeb0c4e-cfcb-442e-a857-5641f010c008"
   },
   "outputs": [
    {
     "data": {
      "image/png": "[encoded data removed]",
      "text/plain": [
       "<Figure size 720x144 with 1 Axes>"
      ]
     },
     "metadata": {
      "needs_background": "light"
     },
     "output_type": "display_data"
    }
   ],
   "source": [
    "#color palette for this notebook\n",
    "#using Netflix Brand Colors\n",
    "colors = ['#E50914','#B81024','#221F1F',\"#C08F73\",'#F5F5F1']\n",
    "palette = sns.color_palette(palette = colors)\n",
    "\n",
    "sns.palplot(palette, size =2)\n",
    "plt.show()"
   ]
  },
  {
   "cell_type": "markdown",
   "metadata": {
    "colab": {
     "base_uri": "https://localhost:8080/",
     "height": 418
    },
    "id": "LZ73k3a_QQ6y",
    "outputId": "c9c25bc9-b688-42f7-df98-2631027ce580"
   },
   "source": [
    "import missingno as msno\n",
    "color=['#E50914']\n",
    "\n",
    "#plot missing data\n",
    "msno.bar(df,figsize=(10,4), color=color,fontsize=12,sort=\"ascending\")"
   ]
  },
  {
   "cell_type": "markdown",
   "metadata": {
    "id": "rl21JRohNX7x"
   },
   "source": [
    "There are missing values in cast, country, director,rating columns.\n",
    "\n",
    "The Data in genre_1, genre_2 and genre_3 have been split from the 'listed_in' column in the original file. As some show_ids have only one tag whereas some have more than 2 tags (max 3 tags) that is why we can ignore these even if the data is shown as missing in the plot."
   ]
  },
  {
   "cell_type": "code",
   "execution_count": 9,
   "metadata": {
    "colab": {
     "base_uri": "https://localhost:8080/"
    },
    "id": "c2dMVEtFQQ9u",
    "outputId": "c4ab587c-be81-43dc-aab9-e1b9eab4f468"
   },
   "outputs": [
    {
     "name": "stdout",
     "output_type": "stream",
     "text": [
      "Netflix platform has content worth of about 61.0 years or 22249.125 days or 533979 mins\n"
     ]
    }
   ],
   "source": [
    "#total running time of the content on the platform\n",
    "time=df['running_time'].sum()\n",
    "day=time/24\n",
    "year=day/365\n",
    "\n",
    "print(\"Netflix platform has content worth of about\",round(year,1),\"years\",\"or\",day,\"days or\",time,\"mins\")"
   ]
  },
  {
   "cell_type": "code",
   "execution_count": 10,
   "metadata": {
    "colab": {
     "base_uri": "https://localhost:8080/"
    },
    "id": "8Lzx5mrhQRAY",
    "outputId": "9ce6e3a0-fc95-4d0b-c49f-61b3fed44ab5"
   },
   "outputs": [
    {
     "name": "stdout",
     "output_type": "stream",
     "text": [
      "Average running time of the content is 68.6 mins\n"
     ]
    }
   ],
   "source": [
    "#average running time\n",
    "print(\"Average running time of the content is\",round(df[\"running_time\"].mean(axis=0),1),\"mins\")"
   ]
  },
  {
   "cell_type": "code",
   "execution_count": 11,
   "metadata": {
    "colab": {
     "base_uri": "https://localhost:8080/"
    },
    "id": "iy48KE-6RAwH",
    "outputId": "39a390be-141d-4968-ee5d-3ab6e026036e"
   },
   "outputs": [
    {
     "data": {
      "text/plain": [
       "country\n",
       "United States     2555\n",
       "India              923\n",
       "United Kingdom     397\n",
       "Japan              226\n",
       "South Korea        183\n",
       "Name: title, dtype: int64"
      ]
     },
     "execution_count": 11,
     "metadata": {},
     "output_type": "execute_result"
    }
   ],
   "source": [
    "#Top 5 countries by count of releases\n",
    "df['title'].groupby(df['country']).count().sort_values(ascending=False).iloc[:5]"
   ]
  },
  {
   "cell_type": "code",
   "execution_count": 12,
   "metadata": {},
   "outputs": [
    {
     "data": {
      "text/plain": [
       "type   country       \n",
       "Movie  United States     1850\n",
       "       India              852\n",
       "       United Kingdom     193\n",
       "       Canada             118\n",
       "       Egypt               89\n",
       "Name: country, dtype: int64"
      ]
     },
     "execution_count": 12,
     "metadata": {},
     "output_type": "execute_result"
    }
   ],
   "source": [
    "#Top 5 countries by count of releases for Movies\n",
    "df[df['type'] == 'Movie'].groupby('type')['country'].value_counts().iloc[:5]"
   ]
  },
  {
   "cell_type": "code",
   "execution_count": 13,
   "metadata": {},
   "outputs": [
    {
     "data": {
      "text/plain": [
       "type     country       \n",
       "TV Show  United States     705\n",
       "         United Kingdom    204\n",
       "         Japan             157\n",
       "         South Korea       147\n",
       "         India              71\n",
       "Name: country, dtype: int64"
      ]
     },
     "execution_count": 13,
     "metadata": {},
     "output_type": "execute_result"
    }
   ],
   "source": [
    "#Top 5 countries by count of releases for TVshows\n",
    "df[df['type'] == 'TV Show'].groupby('type')['country'].value_counts().iloc[:5]"
   ]
  },
  {
   "cell_type": "code",
   "execution_count": 14,
   "metadata": {
    "colab": {
     "base_uri": "https://localhost:8080/",
     "height": 315
    },
    "id": "1y8NUsYvGzPb",
    "outputId": "9246f3b0-5565-40f2-e82e-5e541b9e0074"
   },
   "outputs": [
    {
     "data": {
      "text/html": [
       "<div>\n",
       "<style scoped>\n",
       "    .dataframe tbody tr th:only-of-type {\n",
       "        vertical-align: middle;\n",
       "    }\n",
       "\n",
       "    .dataframe tbody tr th {\n",
       "        vertical-align: top;\n",
       "    }\n",
       "\n",
       "    .dataframe thead th {\n",
       "        text-align: right;\n",
       "    }\n",
       "</style>\n",
       "<table border=\"1\" class=\"dataframe\">\n",
       "  <thead>\n",
       "    <tr style=\"text-align: right;\">\n",
       "      <th></th>\n",
       "      <th>show_id</th>\n",
       "      <th>type</th>\n",
       "      <th>title</th>\n",
       "      <th>country</th>\n",
       "      <th>date_added</th>\n",
       "      <th>release_year</th>\n",
       "      <th>Decade</th>\n",
       "      <th>rating</th>\n",
       "      <th>Suggested_Viewer_Age</th>\n",
       "      <th>Audience group</th>\n",
       "      <th>duration</th>\n",
       "      <th>running_time</th>\n",
       "      <th>genre_1</th>\n",
       "      <th>genre_2</th>\n",
       "      <th>genre_3</th>\n",
       "      <th>month</th>\n",
       "    </tr>\n",
       "  </thead>\n",
       "  <tbody>\n",
       "    <tr>\n",
       "      <th>0</th>\n",
       "      <td>s1</td>\n",
       "      <td>TV Show</td>\n",
       "      <td>3%</td>\n",
       "      <td>Brazil</td>\n",
       "      <td>2020-08-14</td>\n",
       "      <td>2020</td>\n",
       "      <td>2020</td>\n",
       "      <td>TV-MA</td>\n",
       "      <td>17+</td>\n",
       "      <td>Adults</td>\n",
       "      <td>4 Seasons</td>\n",
       "      <td>0</td>\n",
       "      <td>International TV Shows</td>\n",
       "      <td>TV Dramas</td>\n",
       "      <td>TV Sci-Fi &amp; Fantasy</td>\n",
       "      <td>Aug</td>\n",
       "    </tr>\n",
       "    <tr>\n",
       "      <th>1</th>\n",
       "      <td>s2</td>\n",
       "      <td>Movie</td>\n",
       "      <td>07:19</td>\n",
       "      <td>Mexico</td>\n",
       "      <td>2016-12-23</td>\n",
       "      <td>2016</td>\n",
       "      <td>2010</td>\n",
       "      <td>TV-MA</td>\n",
       "      <td>17+</td>\n",
       "      <td>Adults</td>\n",
       "      <td>93 min</td>\n",
       "      <td>93</td>\n",
       "      <td>Dramas</td>\n",
       "      <td>International Movies</td>\n",
       "      <td>NaN</td>\n",
       "      <td>Dec</td>\n",
       "    </tr>\n",
       "  </tbody>\n",
       "</table>\n",
       "</div>"
      ],
      "text/plain": [
       "  show_id     type  title country date_added  release_year  Decade rating  \\\n",
       "0      s1  TV Show     3%  Brazil 2020-08-14          2020    2020  TV-MA   \n",
       "1      s2    Movie  07:19  Mexico 2016-12-23          2016    2010  TV-MA   \n",
       "\n",
       "  Suggested_Viewer_Age Audience group   duration  running_time  \\\n",
       "0                  17+         Adults  4 Seasons             0   \n",
       "1                  17+         Adults     93 min            93   \n",
       "\n",
       "                  genre_1               genre_2              genre_3 month  \n",
       "0  International TV Shows             TV Dramas  TV Sci-Fi & Fantasy   Aug  \n",
       "1                  Dramas  International Movies                  NaN   Dec  "
      ]
     },
     "execution_count": 14,
     "metadata": {},
     "output_type": "execute_result"
    }
   ],
   "source": [
    "#create month from date_added\n",
    "df['month'] = pd.DatetimeIndex(df['date_added']).month\n",
    "\n",
    "#changing month numbers to string\n",
    "df['month']=pd.to_datetime(df['month'], format='%m').dt.month_name().str.slice(stop=3)\n",
    "df.iloc[:2]"
   ]
  },
  {
   "cell_type": "code",
   "execution_count": 15,
   "metadata": {
    "colab": {
     "base_uri": "https://localhost:8080/"
    },
    "id": "JB0ZuUNnXv9F",
    "outputId": "b879aa43-350c-419c-be5b-ddb7f3e8a051"
   },
   "outputs": [
    {
     "data": {
      "text/plain": [
       "month\n",
       "Dec    833\n",
       "Oct    785\n",
       "Jan    757\n",
       "Nov    738\n",
       "Mar    669\n",
       "Name: date_added, dtype: int64"
      ]
     },
     "execution_count": 15,
     "metadata": {},
     "output_type": "execute_result"
    }
   ],
   "source": [
    "# Top 5 months wrt content releases\n",
    "df['date_added'].groupby(df['month']).count().sort_values(ascending=False).iloc[:5]"
   ]
  },
  {
   "cell_type": "code",
   "execution_count": 16,
   "metadata": {
    "colab": {
     "base_uri": "https://localhost:8080/"
    },
    "id": "btsAOEF3XS_s",
    "outputId": "57f14ecb-26c3-4b41-844b-bebf5b7e12e7"
   },
   "outputs": [
    {
     "data": {
      "text/plain": [
       "rating\n",
       "TV-MA    2863\n",
       "TV-14    1931\n",
       "TV-PG     806\n",
       "R         665\n",
       "PG-13     386\n",
       "Name: show_id, dtype: int64"
      ]
     },
     "execution_count": 16,
     "metadata": {},
     "output_type": "execute_result"
    }
   ],
   "source": [
    "# Top 5 ratings by release year\n",
    "df['show_id'].groupby(df['rating']).count().sort_values(ascending=False).iloc[:5]"
   ]
  },
  {
   "cell_type": "code",
   "execution_count": 17,
   "metadata": {
    "colab": {
     "base_uri": "https://localhost:8080/"
    },
    "id": "bY1odgpnHPWQ",
    "outputId": "f234a318-6973-4bcf-fdcf-622129b611e9"
   },
   "outputs": [
    {
     "data": {
      "text/plain": [
       "Suggested_Viewer_Age\n",
       "17+         4337\n",
       "13+         2564\n",
       "Kids         280\n",
       "7            271\n",
       "All Ages     233\n",
       "Name: show_id, dtype: int64"
      ]
     },
     "execution_count": 17,
     "metadata": {},
     "output_type": "execute_result"
    }
   ],
   "source": [
    "# Audience ages\n",
    "df['show_id'].groupby(df['Suggested_Viewer_Age']).count().sort_values(ascending=False).iloc[:5]\n"
   ]
  },
  {
   "cell_type": "code",
   "execution_count": 18,
   "metadata": {
    "colab": {
     "base_uri": "https://localhost:8080/"
    },
    "id": "1iJG80wsHbk_",
    "outputId": "b8dbc689-2081-49af-ee12-ed577555002e"
   },
   "outputs": [
    {
     "data": {
      "text/plain": [
       "Audience group\n",
       "Adults                4337\n",
       "Young Adults/Teens    2564\n",
       "All                    609\n",
       "Kids                   277\n",
       "Name: show_id, dtype: int64"
      ]
     },
     "execution_count": 18,
     "metadata": {},
     "output_type": "execute_result"
    }
   ],
   "source": [
    "# Audience segments\n",
    "aud=df['show_id'].groupby(df['Audience group']).count().sort_values(ascending=False)\n",
    "aud"
   ]
  },
  {
   "cell_type": "code",
   "execution_count": 19,
   "metadata": {
    "colab": {
     "base_uri": "https://localhost:8080/"
    },
    "id": "xWJRdBgDHqFo",
    "outputId": "f197a2a3-746d-409c-a561-be4fac6530fd"
   },
   "outputs": [
    {
     "name": "stdout",
     "output_type": "stream",
     "text": [
      "Requirement already satisfied: pywaffle in c:\\users\\devashree\\appdata\\local\\programs\\python\\python39\\lib\\site-packages (0.6.3)\n",
      "Requirement already satisfied: matplotlib in c:\\users\\devashree\\appdata\\local\\programs\\python\\python39\\lib\\site-packages (from pywaffle) (3.4.3)\n",
      "Requirement already satisfied: python-dateutil>=2.7 in c:\\users\\devashree\\appdata\\local\\programs\\python\\python39\\lib\\site-packages (from matplotlib->pywaffle) (2.8.2)\n",
      "Requirement already satisfied: pyparsing>=2.2.1 in c:\\users\\devashree\\appdata\\local\\programs\\python\\python39\\lib\\site-packages (from matplotlib->pywaffle) (2.4.7)\n",
      "Requirement already satisfied: cycler>=0.10 in c:\\users\\devashree\\appdata\\local\\programs\\python\\python39\\lib\\site-packages (from matplotlib->pywaffle) (0.10.0)\n",
      "Requirement already satisfied: numpy>=1.16 in c:\\users\\devashree\\appdata\\local\\programs\\python\\python39\\lib\\site-packages (from matplotlib->pywaffle) (1.19.5)\n",
      "Requirement already satisfied: pillow>=6.2.0 in c:\\users\\devashree\\appdata\\local\\programs\\python\\python39\\lib\\site-packages (from matplotlib->pywaffle) (8.3.2)\n",
      "Requirement already satisfied: kiwisolver>=1.0.1 in c:\\users\\devashree\\appdata\\local\\programs\\python\\python39\\lib\\site-packages (from matplotlib->pywaffle) (1.3.2)\n",
      "Requirement already satisfied: six in c:\\users\\devashree\\appdata\\local\\programs\\python\\python39\\lib\\site-packages (from cycler>=0.10->matplotlib->pywaffle) (1.15.0)\n"
     ]
    }
   ],
   "source": [
    "!pip install pywaffle"
   ]
  },
  {
   "cell_type": "code",
   "execution_count": 20,
   "metadata": {
    "id": "6aUZ48HMHyFd"
   },
   "outputs": [],
   "source": [
    "from pywaffle import Waffle"
   ]
  },
  {
   "cell_type": "code",
   "execution_count": 36,
   "metadata": {
    "colab": {
     "base_uri": "https://localhost:8080/",
     "height": 284
    },
    "id": "Vg7nlQfsH4mE",
    "outputId": "60b8c72d-2b12-4bbe-81c7-cec99313b64a"
   },
   "outputs": [
    {
     "data": {
      "image/png": "[encoded data removed]",
      "text/plain": [
       "<Waffle size 720x432 with 1 Axes>"
      ]
     },
     "metadata": {
      "needs_background": "light"
     },
     "output_type": "display_data"
    }
   ],
   "source": [
    "#Audience group: \n",
    "\n",
    "data = {'Adults': 4337,'Young Adults/Teens': 2564,'All': 609,'Kids':277}\n",
    "fig = plt.figure(FigureClass=Waffle, \n",
    "    rows=5,\n",
    "    columns=10, \n",
    "    values=data, \n",
    "    figsize=(10,6),\n",
    "    colors=['#E50914','#221F1F','#B81024',\"#C08F73\"],\n",
    "    legend={'loc': 'upper left', 'bbox_to_anchor': (1.1, 1)},\n",
    "    icons='tv',        \n",
    "    font_size=35, \n",
    "    icon_legend=True\n",
    ")\n",
    "plt.show()"
   ]
  },
  {
   "cell_type": "code",
   "execution_count": 22,
   "metadata": {
    "colab": {
     "base_uri": "https://localhost:8080/"
    },
    "id": "KuWUWNg8Zq9b",
    "outputId": "3ce3a349-7f20-427e-9d80-4022570e6b3e"
   },
   "outputs": [
    {
     "data": {
      "text/plain": [
       "Decade\n",
       "2010    5711\n",
       "2020     899\n",
       "2000     728\n",
       "1990     225\n",
       "1980     106\n",
       "1970      67\n",
       "1960      25\n",
       "1940      14\n",
       "1950      11\n",
       "1920       1\n",
       "Name: show_id, dtype: int64"
      ]
     },
     "execution_count": 22,
     "metadata": {},
     "output_type": "execute_result"
    }
   ],
   "source": [
    "# Distribution of Content on platform by decade\n",
    "df['show_id'].groupby(df['Decade']).count().sort_values(ascending=False)"
   ]
  },
  {
   "cell_type": "code",
   "execution_count": 23,
   "metadata": {
    "colab": {
     "base_uri": "https://localhost:8080/"
    },
    "id": "6c1ITyyFq-9n",
    "outputId": "1d752e21-0297-4f51-d1a7-56a61913b9e1"
   },
   "outputs": [
    {
     "name": "stdout",
     "output_type": "stream",
     "text": [
      "Increase in content for 2010 decade vs previous decade 2000 is 684.0 %\n"
     ]
    }
   ],
   "source": [
    "#Content in 2010 decade vs 2000\n",
    "print(\"Increase in content for 2010 decade vs previous decade 2000 is\",round((5711-728)/728*100,0),\"%\")"
   ]
  },
  {
   "cell_type": "code",
   "execution_count": 24,
   "metadata": {
    "colab": {
     "base_uri": "https://localhost:8080/"
    },
    "id": "urHNItKygaQJ",
    "outputId": "11b78bdb-1839-4ca4-b5fa-eaa436b7901c"
   },
   "outputs": [
    {
     "data": {
      "text/plain": [
       "array(['International TV Shows', 'Dramas', 'Horror Movies',\n",
       "       'Action & Adventure', 'Crime TV Shows', 'Documentaries',\n",
       "       'Independent Movies', 'Comedies', 'Sports Movies', 'Anime Series',\n",
       "       'Reality TV', 'TV Comedies', 'Docuseries', 'Movies',\n",
       "       'British TV Shows', 'International Movies', 'Sci-Fi & Fantasy',\n",
       "       \"Kids' TV\", 'Children & Family Movies', 'TV Shows',\n",
       "       'Classic Movies', 'Thrillers', 'Stand-Up Comedy & Talk Shows',\n",
       "       'Stand-Up Comedy', 'Anime Features', 'Music & Musicals',\n",
       "       'TV Dramas', 'TV Horror', 'TV Action & Adventure',\n",
       "       'Classic & Cult TV', 'Romantic TV Shows', 'Cult Movies',\n",
       "       'TV Sci-Fi & Fantasy', 'Romantic Movies',\n",
       "       'Spanish-Language TV Shows', 'LGBTQ Movies', nan,\n",
       "       'Science & Nature TV', 'Korean TV Shows', 'Faith & Spirituality',\n",
       "       'Teen TV Shows', 'TV Mysteries', 'TV Thrillers'], dtype=object)"
      ]
     },
     "execution_count": 24,
     "metadata": {},
     "output_type": "execute_result"
    }
   ],
   "source": [
    "pd.unique(df[['genre_1', 'genre_2','genre_3']].values.ravel('K'))"
   ]
  },
  {
   "cell_type": "code",
   "execution_count": 25,
   "metadata": {
    "colab": {
     "base_uri": "https://localhost:8080/",
     "height": 203
    },
    "id": "E0NMnr_RcI3H",
    "outputId": "6cff1750-494a-4c2f-cd81-6e2d35629d56"
   },
   "outputs": [
    {
     "data": {
      "text/html": [
       "<div>\n",
       "<style scoped>\n",
       "    .dataframe tbody tr th:only-of-type {\n",
       "        vertical-align: middle;\n",
       "    }\n",
       "\n",
       "    .dataframe tbody tr th {\n",
       "        vertical-align: top;\n",
       "    }\n",
       "\n",
       "    .dataframe thead th {\n",
       "        text-align: right;\n",
       "    }\n",
       "</style>\n",
       "<table border=\"1\" class=\"dataframe\">\n",
       "  <thead>\n",
       "    <tr style=\"text-align: right;\">\n",
       "      <th></th>\n",
       "      <th>Genre</th>\n",
       "    </tr>\n",
       "  </thead>\n",
       "  <tbody>\n",
       "    <tr>\n",
       "      <th>0</th>\n",
       "      <td>International TV Shows</td>\n",
       "    </tr>\n",
       "    <tr>\n",
       "      <th>1</th>\n",
       "      <td>Dramas</td>\n",
       "    </tr>\n",
       "    <tr>\n",
       "      <th>2</th>\n",
       "      <td>Horror Movies</td>\n",
       "    </tr>\n",
       "    <tr>\n",
       "      <th>3</th>\n",
       "      <td>Action &amp; Adventure</td>\n",
       "    </tr>\n",
       "    <tr>\n",
       "      <th>4</th>\n",
       "      <td>Crime TV Shows</td>\n",
       "    </tr>\n",
       "  </tbody>\n",
       "</table>\n",
       "</div>"
      ],
      "text/plain": [
       "                    Genre\n",
       "0  International TV Shows\n",
       "1                  Dramas\n",
       "2           Horror Movies\n",
       "3      Action & Adventure\n",
       "4          Crime TV Shows"
      ]
     },
     "execution_count": 25,
     "metadata": {},
     "output_type": "execute_result"
    }
   ],
   "source": [
    "df_cat=pd.DataFrame(pd.unique(df[['genre_1', 'genre_2','genre_3']].values.ravel('K')))\n",
    "#rename empty column\n",
    "df_1=df_cat.rename(columns = {0 : \"Genre\"})\n",
    "#dropna \n",
    "df_1.dropna(inplace=True)\n",
    "df_1.iloc[:5]"
   ]
  },
  {
   "cell_type": "code",
   "execution_count": 26,
   "metadata": {
    "colab": {
     "base_uri": "https://localhost:8080/"
    },
    "id": "i_AVc8rgcQgG",
    "outputId": "4281fc3f-34dc-480d-bf45-4209e83d384d"
   },
   "outputs": [
    {
     "data": {
      "text/plain": [
       "Genre    42\n",
       "dtype: int64"
      ]
     },
     "execution_count": 26,
     "metadata": {},
     "output_type": "execute_result"
    }
   ],
   "source": [
    "#Content Categories\n",
    "df_1.nunique()"
   ]
  },
  {
   "cell_type": "code",
   "execution_count": 27,
   "metadata": {
    "colab": {
     "base_uri": "https://localhost:8080/"
    },
    "id": "kCy0iaYLWMDs",
    "outputId": "fc2b2f7e-852d-4235-c388-d22e32fd6c9a"
   },
   "outputs": [
    {
     "data": {
      "text/plain": [
       "type\n",
       "Movie      5377\n",
       "TV Show    2410\n",
       "Name: type, dtype: int64"
      ]
     },
     "execution_count": 27,
     "metadata": {},
     "output_type": "execute_result"
    }
   ],
   "source": [
    "df['type'].groupby(df['type']).count()"
   ]
  },
  {
   "cell_type": "code",
   "execution_count": 28,
   "metadata": {
    "colab": {
     "base_uri": "https://localhost:8080/",
     "height": 266
    },
    "id": "VTEbsTVqXBZy",
    "outputId": "e51906dc-ffc6-4c27-e952-7a9eda69a950"
   },
   "outputs": [
    {
     "data": {
      "text/plain": [
       "<AxesSubplot:ylabel='release_year'>"
      ]
     },
     "execution_count": 28,
     "metadata": {},
     "output_type": "execute_result"
    },
    {
     "data": {
      "image/png": "[encoded data removed]",
      "text/plain": [
       "<Figure size 432x288 with 1 Axes>"
      ]
     },
     "metadata": {},
     "output_type": "display_data"
    }
   ],
   "source": [
    "# Distribution of Content on platform\n",
    "explode = [0.03,0.1]\n",
    "df.groupby(['type']).sum().plot(kind='pie', y='release_year',explode = explode,autopct='%1.1f%%',colors=['#E50914','#221F1F'],textprops={'color':\"w\",'size':\"large\"})"
   ]
  },
  {
   "cell_type": "code",
   "execution_count": 29,
   "metadata": {
    "colab": {
     "base_uri": "https://localhost:8080/",
     "height": 386
    },
    "id": "leL08t08gNrO",
    "outputId": "61e6d438-43c5-4b85-c0b7-612e90996cfe"
   },
   "outputs": [
    {
     "data": {
      "text/plain": [
       "<seaborn.axisgrid.FacetGrid at 0x22195762a30>"
      ]
     },
     "execution_count": 29,
     "metadata": {},
     "output_type": "execute_result"
    },
    {
     "data": {
      "image/png": "[encoded data removed]",
      "text/plain": [
       "<Figure size 438.75x360 with 1 Axes>"
      ]
     },
     "metadata": {
      "needs_background": "light"
     },
     "output_type": "display_data"
    }
   ],
   "source": [
    "#decadewise content for audiences\n",
    "sns.catplot(y=\"Audience group\", x=\"Decade\", data=df,palette=['#E50914','#221F1F'],hue='type')"
   ]
  },
  {
   "cell_type": "code",
   "execution_count": 30,
   "metadata": {
    "colab": {
     "base_uri": "https://localhost:8080/",
     "height": 297
    },
    "id": "XLjGqadakIF4",
    "outputId": "01af3671-8e53-4997-9e21-46bc03cf4935"
   },
   "outputs": [
    {
     "data": {
      "text/plain": [
       "<AxesSubplot:xlabel='count', ylabel='Audience group'>"
      ]
     },
     "execution_count": 30,
     "metadata": {},
     "output_type": "execute_result"
    },
    {
     "data": {
      "image/png": "[encoded data removed]",
      "text/plain": [
       "<Figure size 432x288 with 1 Axes>"
      ]
     },
     "metadata": {
      "needs_background": "light"
     },
     "output_type": "display_data"
    }
   ],
   "source": [
    "#typewise content for audiences\n",
    "sns.countplot(y=\"Audience group\", data=df,palette=['#E50914','#221F1F'],hue='type')"
   ]
  },
  {
   "cell_type": "code",
   "execution_count": 31,
   "metadata": {
    "colab": {
     "base_uri": "https://localhost:8080/",
     "height": 386
    },
    "id": "WrqIZfoCfqMq",
    "outputId": "784bece1-794f-4b25-ae90-08e2ab399dee"
   },
   "outputs": [
    {
     "data": {
      "text/plain": [
       "<seaborn.axisgrid.FacetGrid at 0x221951ad1c0>"
      ]
     },
     "execution_count": 31,
     "metadata": {},
     "output_type": "execute_result"
    },
    {
     "data": {
      "image/png": "[encoded data removed]",
      "text/plain": [
       "<Figure size 360x360 with 1 Axes>"
      ]
     },
     "metadata": {
      "needs_background": "light"
     },
     "output_type": "display_data"
    }
   ],
   "source": [
    "sns.catplot(y=\"type\", x=\"release_year\", data=df,palette=['#E50914','#221F1F'])"
   ]
  },
  {
   "cell_type": "markdown",
   "metadata": {
    "id": "EeSmHjVTyjEr"
   },
   "source": [
    "Based on the above EDA, here's what we can conclude\n",
    "\n",
    "\n",
    "1.   United States has the highest count for content, both Movies and TV shows\n",
    "2.   Netflix platform has content running time lasting upto 61 years!(533979 mins), average running time of the content is about 69 mins\n",
    "3.   2010 decade has the most content count and that is 684% higher than the previous decade 2000\n",
    "4.   UK has more number of TV shows than Movies\n",
    "5. TV shows became popular after 2000\n",
    "6. More TV shows released as compared to Movies in the Pandemic time as people stayed indoors\n",
    "7. Adults have the most selection for Movies and TV shows\n",
    "8. Less than 10% content is suitable for All (Kids/Family viewing)\n",
    "9. More than 55% of the total content is suitable for Mature Audiences\n",
    "\n",
    "\n",
    "\n",
    "\n"
   ]
  }
 ],
 "metadata": {
  "colab": {
   "collapsed_sections": [],
   "name": "Netflix_EDA.ipynb",
   "provenance": []
  },
  "kernelspec": {
   "display_name": "Python 3 (ipykernel)",
   "language": "python",
   "name": "python3"
  },
  "language_info": {
   "codemirror_mode": {
    "name": "ipython",
    "version": 3
   },
   "file_extension": ".py",
   "mimetype": "text/x-python",
   "name": "python",
   "nbconvert_exporter": "python",
   "pygments_lexer": "ipython3",
   "version": "3.9.7"
  }
 },
 "nbformat": 4,
 "nbformat_minor": 1
}
